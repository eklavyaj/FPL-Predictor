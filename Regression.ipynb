{
 "cells": [
  {
   "cell_type": "code",
   "execution_count": 102,
   "metadata": {},
   "outputs": [],
   "source": [
    "# Import necessary packages\n",
    "\n",
    "import pandas as pd\n",
    "import numpy as np\n",
    "\n",
    "from sklearn.compose import make_column_transformer\n",
    "from sklearn.preprocessing import OneHotEncoder\n",
    "from sklearn.pipeline import make_pipeline\n",
    "from sklearn.preprocessing import StandardScaler\n",
    "from category_encoders import TargetEncoder\n",
    "from scipy.stats import loguniform\n",
    "\n",
    "from sklearn.model_selection import RandomizedSearchCV\n",
    "from sklearn.linear_model import Ridge\n",
    "\n",
    "from sklearn.metrics import mean_squared_error\n",
    "\n",
    "\n",
    "from sklearn.preprocessing import Normalizer"
   ]
  },
  {
   "cell_type": "code",
   "execution_count": 103,
   "metadata": {},
   "outputs": [],
   "source": [
    "# Silence warnings\n",
    "\n",
    "import warnings\n",
    "warnings.filterwarnings('ignore')"
   ]
  },
  {
   "cell_type": "code",
   "execution_count": 104,
   "metadata": {},
   "outputs": [
    {
     "name": "stdout",
     "output_type": "stream",
     "text": [
      "Dataset Shapes \n",
      "\n",
      "- Development Set: (77930, 28)\n",
      "- Test Set: (19483, 28)\n"
     ]
    }
   ],
   "source": [
    "# Load The Datasets\n",
    "\n",
    "df_dev = pd.read_csv(\"dev.csv\")\n",
    "df_test = pd.read_csv(\"test.csv\")\n",
    "\n",
    "print(\"Dataset Shapes \\n\")\n",
    "print(\"- Development Set: {}\".format(df_dev.shape))\n",
    "print(\"- Test Set: {}\".format(df_test.shape))"
   ]
  },
  {
   "cell_type": "code",
   "execution_count": 105,
   "metadata": {},
   "outputs": [],
   "source": [
    "# Split into features\n",
    "\n",
    "dev_x, dev_y = df_dev.drop(columns=[\"total_points\"]), df_dev[\"total_points\"]\n",
    "test_x, test_y = df_test.drop(columns=[\"total_points\"]), df_test[\"total_points\"]"
   ]
  },
  {
   "cell_type": "markdown",
   "metadata": {},
   "source": [
    "# Linear Regression"
   ]
  },
  {
   "cell_type": "code",
   "execution_count": 106,
   "metadata": {},
   "outputs": [
    {
     "name": "stdout",
     "output_type": "stream",
     "text": [
      "Positions in development: ['MID' 'FWD' 'DEF' 'GK']\n",
      "Positions in test: ['MID' 'DEF' 'FWD' 'GK']\n"
     ]
    }
   ],
   "source": [
    "# Categorical Variable Handling: \n",
    "\n",
    "# Numerical features\n",
    "num_features = ['assists', 'bonus', 'bps', 'clean_sheets', 'creativity',\n",
    "       'element', 'goals_conceded', 'goals_scored', 'ict_index', 'influence',\n",
    "       'minutes', 'own_goals', 'penalties_missed', 'penalties_saved',\n",
    "       'red_cards', 'saves', 'selected', 'team_a_score', 'team_h_score',\n",
    "       'threat', 'transfers_balance', 'transfers_in', 'transfers_out', 'value',\n",
    "       'was_home', 'yellow_cards']\n",
    "\n",
    "# Identify the categorical features to one-hot encode later on (linear regression models can't handle categorical data)\n",
    "cat_features = ['position']\n",
    "\n",
    "# See if there are any positions missing in dev that are not in test\n",
    "print(\"Positions in development: {}\".format(df_dev['position'].unique()))\n",
    "print(\"Positions in test: {}\".format(df_test['position'].unique()))\n",
    "\n",
    "# One-hot encoding (handle_unknown because there are no missing positions)\n",
    "ohe_preprocess = make_column_transformer((StandardScaler(), num_features), \n",
    "                                         (OneHotEncoder(), cat_features)\n",
    "                                        )"
   ]
  },
  {
   "cell_type": "code",
   "execution_count": 118,
   "metadata": {},
   "outputs": [],
   "source": [
    "# Let's use random search to find promising areas\n",
    "\n",
    "# Set up search space for alphas\n",
    "search_space = dict()\n",
    "search_space['alpha'] = loguniform(1e-5, 100)\n",
    "\n",
    "# Pipeline\n",
    "ohe_pipe = make_pipeline(ohe_preprocess, \n",
    "                         RandomizedSearchCV(Ridge(), search_space, n_iter=100, scoring='neg_mean_squared_error')\n",
    "                        )\n",
    "\n",
    "# Fit the model\n",
    "ohe_pipe.fit(dev_x, dev_y)\n",
    "\n",
    "# Get the best esimator from the random search\n",
    "model = ohe_pipe[1].best_estimator_\n",
    "\n",
    "# Find mean absolute error\n",
    "print(\"Mean absolute error: {}.format(abs(test_y-tmp_pipe.predict(test_x)).mean())\""
   ]
  },
  {
   "cell_type": "code",
   "execution_count": null,
   "metadata": {},
   "outputs": [],
   "source": []
  }
 ],
 "metadata": {
  "kernelspec": {
   "display_name": "Python 3 (ipykernel)",
   "language": "python",
   "name": "python3"
  },
  "language_info": {
   "codemirror_mode": {
    "name": "ipython",
    "version": 3
   },
   "file_extension": ".py",
   "mimetype": "text/x-python",
   "name": "python",
   "nbconvert_exporter": "python",
   "pygments_lexer": "ipython3",
   "version": "3.9.12"
  },
  "varInspector": {
   "cols": {
    "lenName": 16,
    "lenType": 16,
    "lenVar": 40
   },
   "kernels_config": {
    "python": {
     "delete_cmd_postfix": "",
     "delete_cmd_prefix": "del ",
     "library": "var_list.py",
     "varRefreshCmd": "print(var_dic_list())"
    },
    "r": {
     "delete_cmd_postfix": ") ",
     "delete_cmd_prefix": "rm(",
     "library": "var_list.r",
     "varRefreshCmd": "cat(var_dic_list()) "
    }
   },
   "types_to_exclude": [
    "module",
    "function",
    "builtin_function_or_method",
    "instance",
    "_Feature"
   ],
   "window_display": false
  }
 },
 "nbformat": 4,
 "nbformat_minor": 4
}
